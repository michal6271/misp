{
 "cells": [
  {
   "cell_type": "code",
   "execution_count": 1,
   "metadata": {},
   "outputs": [],
   "source": [
    "# Importowanie bilbioteki pulp i pandas\n",
    "from pulp import *\n",
    "import pandas as pd"
   ]
  },
  {
   "cell_type": "code",
   "execution_count": 2,
   "metadata": {},
   "outputs": [
    {
     "name": "stderr",
     "output_type": "stream",
     "text": [
      "/usr/local/lib/python3.7/dist-packages/pulp/pulp.py:1137: UserWarning: Spaces are not permitted in the name. Converted to '_'\n",
      "  warnings.warn(\"Spaces are not permitted in the name. Converted to '_'\")\n"
     ]
    }
   ],
   "source": [
    "#w pulp\n",
    "# Problemem optymalizacyjnym jest obliczenie maksymalnego prądu \n",
    "prob = LpProblem(\"max prad\",LpMaximize)\n",
    "\n",
    "# 2 zmienne decyzyjne\n",
    "prad1=LpVariable(\"prad1\",0,2) # juz tutaj podajemy ograniczenie ze sa nieujemne\n",
    "prad2=LpVariable(\"prad2\",0,3) # juz tutaj podajemy ograniczenie ze sa nieujemne\n",
    "prad3=LpVariable(\"prad3\",0,4) # juz tutaj podajemy ograniczenie ze sa nieujemne\n",
    "prad4=LpVariable(\"prad4\",0,2) # juz tutaj podajemy ograniczenie ze sa nieujemne\n",
    "prad5=LpVariable(\"prad5\",0,2) # juz tutaj podajemy ograniczenie ze sa nieujemne\n",
    "\n",
    "# funkcja celu - prąd 3 będzie jednocześnie prądem maksymalnym dla całego obwodu\n",
    "prob += prad3\n",
    "\n",
    "#      I1                    I4\n",
    "# ------>------   I3    ------>-----\n",
    "# \\           \\--->-----\\          \\\n",
    "# ------>------         ------>-----\n",
    "#      I2                    I5\n",
    "\n",
    "# warunki:\n",
    "# suma prądów 1 i 2 ma być równa prądowi 3 \n",
    "prob += prad1 + prad2 == prad3\n",
    "# suma prądów 4 i 5 ma być równa prądowi 3\n",
    "prob += prad4 + prad5 == prad3\n",
    "# stosunek prądów wyznaczony na podstawie rezystancji danych gałęzi\n",
    "prob += prad1 * 8 == prad2 * 6\n",
    "prob += prad4 * 10 == prad5 * 8\n",
    "\n",
    "\n"
   ]
  },
  {
   "cell_type": "code",
   "execution_count": null,
   "metadata": {},
   "outputs": [],
   "source": []
  },
  {
   "cell_type": "code",
   "execution_count": 3,
   "metadata": {},
   "outputs": [
    {
     "name": "stdout",
     "output_type": "stream",
     "text": [
      "Status: Optimal\n",
      "prad1 = 1.5428571\n",
      "prad2 = 2.0571429\n",
      "prad3 = 3.6\n",
      "prad4 = 1.6\n",
      "prad5 = 2.0\n",
      "Maksymalny prad wyniesie: 3.6  \n"
     ]
    }
   ],
   "source": [
    "# Funkcja rozwiązująca problem optymalizacji i wyświetlanie danych:\n",
    "prob.solve()\n",
    "print(\"Status:\", LpStatus[prob.status])\n",
    "for v in prob.variables():\n",
    "    print(v.name, \"=\", v.varValue)\n",
    "print(\"Maksymalny prad wyniesie: {}  \".format( value(prob.objective)))\n"
   ]
  },
  {
   "cell_type": "code",
   "execution_count": null,
   "metadata": {},
   "outputs": [],
   "source": []
  }
 ],
 "metadata": {
  "kernelspec": {
   "display_name": "Python 3",
   "language": "python",
   "name": "python3"
  },
  "language_info": {
   "codemirror_mode": {
    "name": "ipython",
    "version": 3
   },
   "file_extension": ".py",
   "mimetype": "text/x-python",
   "name": "python",
   "nbconvert_exporter": "python",
   "pygments_lexer": "ipython3",
   "version": "3.7.5"
  }
 },
 "nbformat": 4,
 "nbformat_minor": 2
}
