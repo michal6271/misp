{
 "cells": [
  {
   "cell_type": "code",
   "execution_count": 1,
   "metadata": {},
   "outputs": [],
   "source": [
    "from pulp import *\n",
    "import pandas as pd"
   ]
  },
  {
   "cell_type": "code",
   "execution_count": 8,
   "metadata": {},
   "outputs": [
    {
     "ename": "TypeError",
     "evalue": "'set' object does not support item assignment",
     "output_type": "error",
     "traceback": [
      "\u001b[0;31m---------------------------------------------------------------------------\u001b[0m",
      "\u001b[0;31mTypeError\u001b[0m                                 Traceback (most recent call last)",
      "\u001b[0;32m<ipython-input-8-e4f0256c0dff>\u001b[0m in \u001b[0;36m<module>\u001b[0;34m\u001b[0m\n\u001b[1;32m     21\u001b[0m                'wt'}\n\u001b[1;32m     22\u001b[0m \u001b[0;34m\u001b[0m\u001b[0m\n\u001b[0;32m---> 23\u001b[0;31m \u001b[0migorGodziny\u001b[0m\u001b[0;34m[\u001b[0m\u001b[0;34m'pon'\u001b[0m\u001b[0;34m]\u001b[0m \u001b[0;34m=\u001b[0m \u001b[0;36m1\u001b[0m\u001b[0;34m\u001b[0m\u001b[0;34m\u001b[0m\u001b[0m\n\u001b[0m\u001b[1;32m     24\u001b[0m \u001b[0;34m\u001b[0m\u001b[0m\n\u001b[1;32m     25\u001b[0m \u001b[0;34m\u001b[0m\u001b[0m\n",
      "\u001b[0;31mTypeError\u001b[0m: 'set' object does not support item assignment"
     ]
    }
   ],
   "source": [
    "#w pulp\n",
    "Dni = ['pon', 'wt', 'sr', 'czw', 'pt', 'sob']\n",
    "\n",
    "stawki = {'Igor' : 170, \n",
    "         'Marcin' : 60, \n",
    "         'Franek' : 80, \n",
    "         'Piotr' : 200, \n",
    "         'Ania' : 90, \n",
    "         'Zenon' : 10,\n",
    "         'Krzesimir' : 100,\n",
    "         'Karol' : 40}\n",
    "\n",
    "godzinyDni = {'pon' : 8, \n",
    "         'wt' : 4, \n",
    "         'sr' : 4, \n",
    "         'czw' : 4, \n",
    "         'pt' : 8, \n",
    "         'sob' : 2}\n",
    "\n",
    "ponIgor = LpVariable(\"ponIgor\", 0, 8)\n",
    "wtIgor = LpVariable(\"wtIgor\", 0, 4)\n",
    "srIgor = LpVariable(\"srIgor\", 0, 4)\n",
    "czwIgor = LpVariable(\"czwIgor\", 0, 4)\n",
    "ptIgor = LpVariable(\"ptIgor\", 0, 8)\n",
    "sobIgor = LpVariable(\"sobIgor\", 0, 2)\n",
    "\n",
    "ponMarcin = LpVariable(\"ponMarcin\", 0, 8)\n",
    "wtMarcin = LpVariable(\"wtMarcin\", 0, 4)\n",
    "srMarcin = LpVariable(\"srMarcin\", 0, 4)\n",
    "czwMarcin = LpVariable(\"czwMarcin\", 0, 4)\n",
    "ptMarcin = LpVariable(\"ptMarcin\", 0, 8)\n",
    "sobMarcin = LpVariable(\"sobMarcin\", 0, 2)\n",
    "\n",
    "ponFranek = LpVariable(\"ponFranek\", 0, 8)\n",
    "wtFranek = LpVariable(\"wtFranek\", 0, 4)\n",
    "srFranek = LpVariable(\"srFranek\", 0, 4)\n",
    "czwFranek = LpVariable(\"czwFranek\", 0, 4)\n",
    "ptFranek = LpVariable(\"ptFranek\", 0, 8)\n",
    "sobFranek = LpVariable(\"sobFranek\", 0, 2)\n",
    "\n",
    "ponPiotr = LpVariable(\"ponPiotr\", 0, 8)\n",
    "wtPiotr = LpVariable(\"wtPiotr\", 0, 4)\n",
    "srPiotr = LpVariable(\"srPiotr\", 0, 4)\n",
    "czwPiotr = LpVariable(\"czwPiotr\", 0, 4)\n",
    "ptPiotr = LpVariable(\"ptPiotr\", 0, 8)\n",
    "sobPiotr = LpVariable(\"sobPiotr\", 0, 2)\n",
    "\n",
    "ponAnia = LpVariable(\"ponAnia\", 0, 8)\n",
    "wtAnia = LpVariable(\"wtAnia\", 0, 4)\n",
    "srAnia = LpVariable(\"srAnia\", 0, 4)\n",
    "czwAnia = LpVariable(\"czwAnia\", 0, 4)\n",
    "ptAnia = LpVariable(\"ptAnia\", 0, 8)\n",
    "sobAnia = LpVariable(\"sobAnia\", 0, 2)\n",
    "\n",
    "ponZenon = LpVariable(\"ponZenon\", 0, 8)\n",
    "wtZenon = LpVariable(\"wtZenon\", 0, 4)\n",
    "srZenon = LpVariable(\"srZenon\", 0, 4)\n",
    "czwZenon = LpVariable(\"czwZenon\", 0, 4)\n",
    "ptZenon = LpVariable(\"ptZenon\", 0, 8)\n",
    "sobZenon = LpVariable(\"sobZenon\", 0, 2)\n",
    "\n",
    "ponKrzesimir = LpVariable(\"ponKrzesimir\", 0, 8)\n",
    "wtKrzesimir = LpVariable(\"wtKrzesimir\", 0, 4)\n",
    "srKrzesimir = LpVariable(\"srKrzesimir\", 0, 4)\n",
    "czwKrzesimir = LpVariable(\"czwKrzesimir\", 0, 4)\n",
    "ptKrzesimir = LpVariable(\"ptKrzesimir\", 0, 8)\n",
    "sobKrzesimir = LpVariable(\"sobKrzesimir\", 0, 2)\n",
    "\n",
    "ponKarol = LpVariable(\"ponKarol\", 0, 8)\n",
    "wtKarol = LpVariable(\"wtKarol\", 0, 4)\n",
    "srKarol = LpVariable(\"srKarol\", 0, 4)\n",
    "czwKarol = LpVariable(\"czwKarol\", 0, 4)\n",
    "ptKarol = LpVariable(\"ptKarol\", 0, 8)\n",
    "sobKarol = LpVariable(\"sobKarol\", 0, 2)\n",
    "\n",
    "prob = LpProblem(\"godziny\", LpMinimize)\n",
    "\n",
    "prob += ponIgor + ponMarcin + ponFranek + ponPiotr + ponAnia + ponZenon + ponKrzesimir + ponKarol <= 8\n",
    "prob += wtIgor + wtMarcin + wtFranek + wtPiotr + wtAnia + wtZenon + wtKrzesimir + wtKarol <= 4\n",
    "prob += srIgor + srMarcin + srFranek + srPiotr + srAnia + srZenon + srKrzesimir + srKarol <= 4\n",
    "prob += czwIgor + czwMarcin + czwFranek + czwPiotr + czwAnia + czwZenon + czwKrzesimir + czwKarol <= 4\n",
    "prob += ptIgor + ptMarcin + ptFranek + ptPiotr + ptAnia + ptZenon + ptKrzesimir + ptKarol <= 8\n",
    "prob += sobIgor + sobMarcin + sobFranek + sobPiotr + sobAnia + sobZenon + sobKrzesimir + sobKarol <= 2\n",
    "        \n"
   ]
  },
  {
   "cell_type": "code",
   "execution_count": 3,
   "metadata": {},
   "outputs": [
    {
     "name": "stdout",
     "output_type": "stream",
     "text": [
      "Status: Optimal\n",
      "Ania = 8.0\n",
      "Franek = 2.0\n",
      "Igor = 4.0\n",
      "Karol = 2.0\n",
      "Koszt = 3580.0\n",
      "Krzesimir = 2.0\n",
      "Marcin = 2.0\n",
      "Piotr = 8.0\n",
      "Zenon = 2.0\n",
      "__dummy = None\n"
     ]
    },
    {
     "ename": "AttributeError",
     "evalue": "'NoneType' object has no attribute 'value'",
     "output_type": "error",
     "traceback": [
      "\u001b[0;31m---------------------------------------------------------------------------\u001b[0m",
      "\u001b[0;31mAttributeError\u001b[0m                            Traceback (most recent call last)",
      "\u001b[0;32m<ipython-input-3-8f03a7113cfe>\u001b[0m in \u001b[0;36m<module>\u001b[0;34m\u001b[0m\n\u001b[1;32m      5\u001b[0m \u001b[0;32mfor\u001b[0m \u001b[0mv\u001b[0m \u001b[0;32min\u001b[0m \u001b[0mprob\u001b[0m\u001b[0;34m.\u001b[0m\u001b[0mvariables\u001b[0m\u001b[0;34m(\u001b[0m\u001b[0;34m)\u001b[0m\u001b[0;34m:\u001b[0m\u001b[0;34m\u001b[0m\u001b[0;34m\u001b[0m\u001b[0m\n\u001b[1;32m      6\u001b[0m     \u001b[0mprint\u001b[0m\u001b[0;34m(\u001b[0m\u001b[0mv\u001b[0m\u001b[0;34m.\u001b[0m\u001b[0mname\u001b[0m\u001b[0;34m,\u001b[0m \u001b[0;34m\"=\"\u001b[0m\u001b[0;34m,\u001b[0m \u001b[0mv\u001b[0m\u001b[0;34m.\u001b[0m\u001b[0mvarValue\u001b[0m\u001b[0;34m)\u001b[0m\u001b[0;34m\u001b[0m\u001b[0;34m\u001b[0m\u001b[0m\n\u001b[0;32m----> 7\u001b[0;31m \u001b[0mprint\u001b[0m\u001b[0;34m(\u001b[0m\u001b[0;34m\"Koszt: {}  \"\u001b[0m\u001b[0;34m.\u001b[0m\u001b[0mformat\u001b[0m\u001b[0;34m(\u001b[0m \u001b[0mvalue\u001b[0m\u001b[0;34m(\u001b[0m\u001b[0mprob\u001b[0m\u001b[0;34m.\u001b[0m\u001b[0mobjective\u001b[0m\u001b[0;34m)\u001b[0m\u001b[0;34m)\u001b[0m\u001b[0;34m)\u001b[0m\u001b[0;34m\u001b[0m\u001b[0;34m\u001b[0m\u001b[0m\n\u001b[0m",
      "\u001b[0;32m~/anaconda3/lib/python3.7/site-packages/pulp/pulp.py\u001b[0m in \u001b[0;36mvalue\u001b[0;34m(x)\u001b[0m\n\u001b[1;32m   2009\u001b[0m     \u001b[0;34m\"\"\"Returns the value of the variable/expression x, or x if it is a number\"\"\"\u001b[0m\u001b[0;34m\u001b[0m\u001b[0;34m\u001b[0m\u001b[0m\n\u001b[1;32m   2010\u001b[0m     \u001b[0;32mif\u001b[0m \u001b[0misNumber\u001b[0m\u001b[0;34m(\u001b[0m\u001b[0mx\u001b[0m\u001b[0;34m)\u001b[0m\u001b[0;34m:\u001b[0m \u001b[0;32mreturn\u001b[0m \u001b[0mx\u001b[0m\u001b[0;34m\u001b[0m\u001b[0;34m\u001b[0m\u001b[0m\n\u001b[0;32m-> 2011\u001b[0;31m     \u001b[0;32melse\u001b[0m\u001b[0;34m:\u001b[0m \u001b[0;32mreturn\u001b[0m \u001b[0mx\u001b[0m\u001b[0;34m.\u001b[0m\u001b[0mvalue\u001b[0m\u001b[0;34m(\u001b[0m\u001b[0;34m)\u001b[0m\u001b[0;34m\u001b[0m\u001b[0;34m\u001b[0m\u001b[0m\n\u001b[0m\u001b[1;32m   2012\u001b[0m \u001b[0;34m\u001b[0m\u001b[0m\n\u001b[1;32m   2013\u001b[0m \u001b[0;32mdef\u001b[0m \u001b[0mvalueOrDefault\u001b[0m\u001b[0;34m(\u001b[0m\u001b[0mx\u001b[0m\u001b[0;34m)\u001b[0m\u001b[0;34m:\u001b[0m\u001b[0;34m\u001b[0m\u001b[0;34m\u001b[0m\u001b[0m\n",
      "\u001b[0;31mAttributeError\u001b[0m: 'NoneType' object has no attribute 'value'"
     ]
    }
   ],
   "source": [
    "prob.solve()\n",
    "# The status of the solution is printed to the screen\n",
    "print(\"Status:\", LpStatus[prob.status])\n",
    "# Each of the variables is printed with it's resolved optimum value\n",
    "for v in prob.variables():\n",
    "    print(v.name, \"=\", v.varValue)\n",
    "print(\"Koszt: {}  \".format( value(prob.objective)))\n"
   ]
  },
  {
   "cell_type": "code",
   "execution_count": null,
   "metadata": {},
   "outputs": [],
   "source": []
  }
 ],
 "metadata": {
  "kernelspec": {
   "display_name": "Python 3",
   "language": "python",
   "name": "python3"
  },
  "language_info": {
   "codemirror_mode": {
    "name": "ipython",
    "version": 3
   },
   "file_extension": ".py",
   "mimetype": "text/x-python",
   "name": "python",
   "nbconvert_exporter": "python",
   "pygments_lexer": "ipython3",
   "version": "3.7.3"
  }
 },
 "nbformat": 4,
 "nbformat_minor": 2
}
